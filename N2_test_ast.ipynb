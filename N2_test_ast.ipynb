{
 "cells": [
  {
   "cell_type": "markdown",
   "metadata": {},
   "source": [
    "#### test AST python parser\n",
    "### test AST python parser\n",
    "## test AST python parser\n",
    "# test AST python parser"
   ]
  },
  {
   "cell_type": "markdown",
   "metadata": {},
   "source": [
    "The code below finds the assign element in the python syntax tree"
   ]
  },
  {
   "cell_type": "code",
   "execution_count": 73,
   "metadata": {},
   "outputs": [
    {
     "name": "stdout",
     "output_type": "stream",
     "text": [
      "{'seed', 'train_df', 'x'}\n",
      "{'x'}\n"
     ]
    }
   ],
   "source": [
    "import ast\n",
    "source = \"import pandas as pd \\nfrom imblearn.over_sampling import RandomOverSampler, SMOTE \\nimport matplotlib; x = train_df.drop(columns = \\\"target\\\", random_seed=seed)\"\n",
    "root = ast.parse(source)\n",
    "assignment = {n.id  for node in ast.walk(root) if isinstance(node, ast.Assign) for n in node.targets}\n",
    "all_vars = {node.id for node in ast.walk(root) if isinstance(node, ast.Name)}\n",
    "print(all_vars)\n",
    "print(assignment)"
   ]
  },
  {
   "cell_type": "markdown",
   "metadata": {},
   "source": [
    "`targets` of the assign is the left-value. This is a list as multiple objects can be assigned"
   ]
  },
  {
   "cell_type": "code",
   "execution_count": 36,
   "metadata": {},
   "outputs": [
    {
     "data": {
      "text/plain": [
       "'x'"
      ]
     },
     "execution_count": 36,
     "metadata": {},
     "output_type": "execute_result"
    }
   ],
   "source": [
    "names[0].targets[0].id"
   ]
  },
  {
   "cell_type": "markdown",
   "metadata": {},
   "source": [
    "The right value is stored in `value` attribute"
   ]
  },
  {
   "cell_type": "code",
   "execution_count": 37,
   "metadata": {},
   "outputs": [
    {
     "data": {
      "text/plain": [
       "{'func': <ast.Attribute at 0x7fd9e8ec19a0>,\n",
       " 'args': [],\n",
       " 'keywords': [<ast.keyword at 0x7fd9f8bafb50>],\n",
       " 'lineno': 2,\n",
       " 'col_offset': 4,\n",
       " 'end_lineno': 2,\n",
       " 'end_col_offset': 37}"
      ]
     },
     "execution_count": 37,
     "metadata": {},
     "output_type": "execute_result"
    }
   ],
   "source": [
    "names[0].value.__dict__"
   ]
  },
  {
   "cell_type": "markdown",
   "metadata": {},
   "source": [
    "Two ways to traverse the tree"
   ]
  },
  {
   "cell_type": "code",
   "execution_count": 43,
   "metadata": {},
   "outputs": [
    {
     "data": {
      "text/plain": [
       "\"Module(body=[Import(names=[alias(name='pandas', asname='pd')]), ImportFrom(module='imblearn.over_sampling', names=[alias(name='RandomOverSampler'), alias(name='SMOTE')], level=0), Import(names=[alias(name='matplotlib')]), Assign(targets=[Name(id='x', ctx=Store())], value=Call(func=Attribute(value=Name(id='train_df', ctx=Load()), attr='drop', ctx=Load()), args=[], keywords=[keyword(arg='columns', value=Constant(value='target'))]))], type_ignores=[])\""
      ]
     },
     "execution_count": 43,
     "metadata": {},
     "output_type": "execute_result"
    }
   ],
   "source": [
    "ast.dump(root)"
   ]
  },
  {
   "cell_type": "code",
   "execution_count": 54,
   "metadata": {},
   "outputs": [
    {
     "name": "stdout",
     "output_type": "stream",
     "text": [
      "pd\n",
      "RandomOverSampler\n",
      "matplotlib\n"
     ]
    }
   ],
   "source": [
    "print(root.body[0].names[0].asname) # import as\n",
    "print(root.body[1].names[0].name) # import from\n",
    "print(root.body[2].names[0].name) # without as"
   ]
  },
  {
   "cell_type": "code",
   "execution_count": 68,
   "metadata": {},
   "outputs": [
    {
     "data": {
      "text/plain": [
       "{'RandomOverSampler', 'SMOTE', 'matplotlib', 'pd'}"
      ]
     },
     "execution_count": 68,
     "metadata": {},
     "output_type": "execute_result"
    }
   ],
   "source": [
    "# this generates all the left values from import\n",
    "all_imports = set()\n",
    "for node in ast.walk(root):\n",
    "    if isinstance(node, (ast.Import, ast.ImportFrom)):\n",
    "        for n in node.names:\n",
    "            all_imports.add(n.asname or n.name )\n",
    "all_imports"
   ]
  },
  {
   "cell_type": "code",
   "execution_count": 76,
   "metadata": {},
   "outputs": [
    {
     "data": {
      "text/plain": [
       "{'RandomOverSampler', 'SMOTE', 'matplotlib', 'pd'}"
      ]
     },
     "execution_count": 76,
     "metadata": {},
     "output_type": "execute_result"
    }
   ],
   "source": [
    "# more elegant form\n",
    "all_imports =  {n.asname or n.name  for node in ast.walk(root) \\\n",
    "                                    if isinstance(node, (ast.Import, ast.ImportFrom)) \\\n",
    "                                    for n in node.names}\n",
    "all_imports"
   ]
  },
  {
   "cell_type": "code",
   "execution_count": 42,
   "metadata": {},
   "outputs": [
    {
     "name": "stdout",
     "output_type": "stream",
     "text": [
      "<class 'ast.Module'>\n",
      "<class 'ast.Import'>\n",
      "<class 'ast.ImportFrom'>\n",
      "<class 'ast.Import'>\n",
      "<class 'ast.Assign'>\n",
      "<class 'ast.alias'>\n",
      "<class 'ast.alias'>\n",
      "<class 'ast.alias'>\n",
      "<class 'ast.alias'>\n",
      "<class 'ast.Name'>\n",
      "<class 'ast.Call'>\n",
      "<class 'ast.Store'>\n",
      "<class 'ast.Attribute'>\n",
      "<class 'ast.keyword'>\n",
      "<class 'ast.Name'>\n",
      "<class 'ast.Load'>\n",
      "<class 'ast.Constant'>\n",
      "<class 'ast.Load'>\n"
     ]
    }
   ],
   "source": [
    "for node in ast.walk(root):\n",
    "    print(type(node))"
   ]
  },
  {
   "cell_type": "markdown",
   "metadata": {},
   "source": [
    "Establishing what elements are assigned,  what is used as right value (presume that the notebook does not generate error) will be a very strong indicator of code ordering\n",
    "\n",
    "The existing variables are: the right values, including variables used in function/method invocation without assignment (e.g. `nn.fit(df)`)\n",
    "\n",
    "The newly created variables are: left values in assignment, and imported packages\n",
    "\n",
    "Since the latter is easier, we will find a list of all variables, and subtract from it the list of left values to find the right values\n",
    "\n",
    "Note: function definitions are not dealt with here"
   ]
  },
  {
   "cell_type": "code",
   "execution_count": null,
   "metadata": {},
   "outputs": [],
   "source": [
    "from ast import NodeVisitor\n",
    "\n",
    "class EvalVisitor(NodeVisitor):\n",
    "    def __init__(self, **kwargs):\n",
    "        self._namespace = kwargs\n",
    "\n",
    "    def visit_Name(self, node):\n",
    "        return self._namespace[node.id]\n",
    "\n",
    "    def visit_Num(self, node):\n",
    "        return node.n\n",
    "\n",
    "    def visit_NameConstant(self, node):\n",
    "        return node.value\n",
    "\n",
    "    def visit_UnaryOp(self, node):\n",
    "        val = self.visit(node.operand)\n",
    "        return operators[type(node.op)](val)\n",
    "\n",
    "    def visit_BinOp(self, node):\n",
    "        lhs = self.visit(node.left)\n",
    "        rhs = self.visit(node.right)\n",
    "        return operators[type(node.op)](lhs, rhs)\n",
    "\n",
    "    def generic_visit(self, node):\n",
    "        raise ValueError(\"malformed node or string: \" + repr(node))"
   ]
  },
  {
   "cell_type": "markdown",
   "metadata": {},
   "source": [
    "### References\n",
    "\n",
    "Exploring the Python AST\n",
    "\n",
    "https://mvdwoord.github.io/exploration/2017/08/18/ast_explore.html\n",
    "\n",
    "AST documentation\n",
    "\n",
    "https://docs.python.org/3/library/ast.html\n",
    "\n",
    "https://stackoverflow.com/questions/33554036/how-to-get-all-variable-and-method-names-used-in-script\n",
    "\n",
    "NodeVisitor: \n",
    "https://stackoverflow.com/questions/26398179/replace-variable-names-with-actual-values-in-an-expression-in-ast-python\n"
   ]
  },
  {
   "cell_type": "code",
   "execution_count": null,
   "metadata": {},
   "outputs": [],
   "source": []
  }
 ],
 "metadata": {
  "interpreter": {
   "hash": "3f9d4a2cd28c798ce7c4b0f414ef1aea287f110fe05f6b27e1d411f0c4025893"
  },
  "kernelspec": {
   "display_name": "Python 3.9.12 ('base')",
   "language": "python",
   "name": "python3"
  },
  "language_info": {
   "codemirror_mode": {
    "name": "ipython",
    "version": 3
   },
   "file_extension": ".py",
   "mimetype": "text/x-python",
   "name": "python",
   "nbconvert_exporter": "python",
   "pygments_lexer": "ipython3",
   "version": "3.9.12"
  },
  "orig_nbformat": 4
 },
 "nbformat": 4,
 "nbformat_minor": 2
}
